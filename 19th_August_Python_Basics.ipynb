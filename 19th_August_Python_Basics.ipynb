{
 "cells": [
  {
   "cell_type": "markdown",
   "id": "3c5828e6-c532-4b26-9fa3-6a243aa36ec8",
   "metadata": {},
   "source": [
    "# Python Basics Variable"
   ]
  },
  {
   "cell_type": "code",
   "execution_count": 2,
   "id": "c618ebbf-3ad2-4147-9c27-98994c71d621",
   "metadata": {},
   "outputs": [
    {
     "name": "stdout",
     "output_type": "stream",
     "text": [
      "3 25\n"
     ]
    }
   ],
   "source": [
    "''' 1. Declare two variables, `x` and `y`, and assign them integer values. Swap the\n",
    "values of these variables without using any temporary variable.'''\n",
    "\n",
    "a = 25\n",
    "b = 3 \n",
    "a, b = b, a\n",
    "print(a,b)"
   ]
  },
  {
   "cell_type": "code",
   "execution_count": 3,
   "id": "45932ac4-a1fd-49a0-8adf-c5713d472c2d",
   "metadata": {},
   "outputs": [
    {
     "name": "stdin",
     "output_type": "stream",
     "text": [
      "Enter the length 12\n",
      "Enter the width 6\n"
     ]
    },
    {
     "name": "stdout",
     "output_type": "stream",
     "text": [
      "Area:  72.0\n"
     ]
    }
   ],
   "source": [
    "'''2. Create a program that calculates the area of a rectangle. Take the length and\n",
    "width as inputs from the user and store them in variables. Calculate and\n",
    "display the area.'''\n",
    "\n",
    "length = float(input(\"Enter the length\"))\n",
    "width = float(input(\"Enter the width\"))\n",
    "area = length*width\n",
    "print(\"Area: \", area)\n"
   ]
  },
  {
   "cell_type": "code",
   "execution_count": 4,
   "id": "a08811c2-d695-4684-aac5-113b6abca084",
   "metadata": {},
   "outputs": [
    {
     "name": "stdin",
     "output_type": "stream",
     "text": [
      "Enter the temperature in celcius 36.6\n"
     ]
    },
    {
     "name": "stdout",
     "output_type": "stream",
     "text": [
      "fahrenheit 97.88000000000001\n"
     ]
    }
   ],
   "source": [
    "'''3. Write a Python program that converts temperatures from Celsius to\n",
    "Fahrenheit. Take the temperature in Celsius as input, store it in a variable,\n",
    "convert it to Fahrenheit, and display the result.'''\n",
    "\n",
    "celcius = float(input(\"Enter the temperature in celcius\"))\n",
    "fahrenheit = (9/5)*celcius+32\n",
    "print(\"fahrenheit\", fahrenheit)"
   ]
  },
  {
   "cell_type": "markdown",
   "id": "728b913e-48d2-4a21-88f9-906cde7bb42e",
   "metadata": {},
   "source": [
    "## string"
   ]
  },
  {
   "cell_type": "code",
   "execution_count": 6,
   "id": "da64301c-e1ba-4b86-b9ed-be323ba29016",
   "metadata": {},
   "outputs": [
    {
     "name": "stdin",
     "output_type": "stream",
     "text": [
      "Enter a string:  neha sharma\n"
     ]
    },
    {
     "data": {
      "text/plain": [
       "11"
      ]
     },
     "execution_count": 6,
     "metadata": {},
     "output_type": "execute_result"
    }
   ],
   "source": [
    "'''1. Write a Python program that takes a string as input and prints the length of\n",
    "the string.'''\n",
    "\n",
    "str = input(\"Enter a string: \")\n",
    "len(str)"
   ]
  },
  {
   "cell_type": "code",
   "execution_count": 7,
   "id": "b3b8657a-bf0a-468d-91ff-c5e30686177e",
   "metadata": {},
   "outputs": [
    {
     "name": "stdin",
     "output_type": "stream",
     "text": [
      "Enter a sentence:  neha sharma\n"
     ]
    },
    {
     "name": "stdout",
     "output_type": "stream",
     "text": [
      "count 4\n"
     ]
    }
   ],
   "source": [
    "'''2. Create a program that takes a sentence from the user and counts the number\n",
    "of vowels (a, e, i, o, u) in the string.'''\n",
    "\n",
    "str = input(\"Enter a sentence: \").lower()\n",
    "\n",
    "count = 0\n",
    "for i in str:\n",
    "    if (i == 'a' or i== 'e' or i== 'i' or i== 'o' or i== 'u'):\n",
    "        count+=1\n",
    "print (\"count\" , count)\n",
    "\n"
   ]
  },
  {
   "cell_type": "code",
   "execution_count": 8,
   "id": "65a52770-4c9e-458b-8d78-eb8f5100af99",
   "metadata": {},
   "outputs": [
    {
     "name": "stdin",
     "output_type": "stream",
     "text": [
      "Enter a sentence:  i am neha \n"
     ]
    },
    {
     "data": {
      "text/plain": [
       "' ahen ma i'"
      ]
     },
     "execution_count": 8,
     "metadata": {},
     "output_type": "execute_result"
    }
   ],
   "source": [
    "'''3. Given a string, reverse the order of characters using string slicing and print\n",
    "the reversed string.'''\n",
    "\n",
    "str = input(\"Enter a sentence: \")\n",
    "str[::-1]"
   ]
  },
  {
   "cell_type": "code",
   "execution_count": 9,
   "id": "45a4c5bc-04e5-4547-84a5-ff92a4a686de",
   "metadata": {},
   "outputs": [
    {
     "name": "stdin",
     "output_type": "stream",
     "text": [
      "Enter a sentence:  i am neha\n"
     ]
    },
    {
     "name": "stdout",
     "output_type": "stream",
     "text": [
      "No\n"
     ]
    }
   ],
   "source": [
    "'''4. Write a program that takes a string as input and checks if it is a palindrome\n",
    "(reads the same forwards and backwards).'''\n",
    "\n",
    "str = input(\"Enter a sentence: \")\n",
    "str2 = str[::-1]\n",
    "if str == str2:\n",
    "    print(\"yes\")\n",
    "else:\n",
    "    print(\"No\")\n",
    "    "
   ]
  },
  {
   "cell_type": "code",
   "execution_count": 10,
   "id": "66db47d3-b1e5-4641-ad6f-c52780e46c57",
   "metadata": {},
   "outputs": [
    {
     "name": "stdin",
     "output_type": "stream",
     "text": [
      "Enter a string:  neha sharma\n"
     ]
    },
    {
     "data": {
      "text/plain": [
       "'nehasharma'"
      ]
     },
     "execution_count": 10,
     "metadata": {},
     "output_type": "execute_result"
    }
   ],
   "source": [
    "'''5. Create a program that takes a string as input and removes all the spaces from\n",
    "it. Print the modified string without spaces.'''\n",
    "\n",
    "str = input(\"Enter a string: \")\n",
    "new_string = str.replace(' ','')\n",
    "\n",
    "\n",
    "new_string"
   ]
  },
  {
   "cell_type": "code",
   "execution_count": null,
   "id": "dd136e6c-d2f6-48c1-b65b-e4d9a19ce293",
   "metadata": {},
   "outputs": [],
   "source": []
  }
 ],
 "metadata": {
  "kernelspec": {
   "display_name": "Python 3 (ipykernel)",
   "language": "python",
   "name": "python3"
  },
  "language_info": {
   "codemirror_mode": {
    "name": "ipython",
    "version": 3
   },
   "file_extension": ".py",
   "mimetype": "text/x-python",
   "name": "python",
   "nbconvert_exporter": "python",
   "pygments_lexer": "ipython3",
   "version": "3.12.4"
  }
 },
 "nbformat": 4,
 "nbformat_minor": 5
}
